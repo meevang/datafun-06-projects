{
 "cells": [
  {
   "cell_type": "markdown",
   "metadata": {},
   "source": [
    "# Task 2\n",
    "\n",
    "### Notebook: diamonds\n",
    "### Author: Mee Vang Date: 09/28/23"
   ]
  },
  {
   "cell_type": "markdown",
   "metadata": {},
   "source": [
    "#### Section 1-Load: Get the file, store it in your repo, and load it into a DataFrame. "
   ]
  },
  {
   "cell_type": "code",
   "execution_count": 6,
   "metadata": {},
   "outputs": [],
   "source": [
    "import pandas as pd\n",
    "\n",
    "df = pd.read_csv('diamonds.csv', index_col=0)"
   ]
  },
  {
   "cell_type": "markdown",
   "metadata": {},
   "source": [
    "### Section 2-View: Display the first 7 rows and the last 7 rows."
   ]
  },
  {
   "cell_type": "code",
   "execution_count": 7,
   "metadata": {},
   "outputs": [
    {
     "data": {
      "text/html": [
       "<div>\n",
       "<style scoped>\n",
       "    .dataframe tbody tr th:only-of-type {\n",
       "        vertical-align: middle;\n",
       "    }\n",
       "\n",
       "    .dataframe tbody tr th {\n",
       "        vertical-align: top;\n",
       "    }\n",
       "\n",
       "    .dataframe thead th {\n",
       "        text-align: right;\n",
       "    }\n",
       "</style>\n",
       "<table border=\"1\" class=\"dataframe\">\n",
       "  <thead>\n",
       "    <tr style=\"text-align: right;\">\n",
       "      <th></th>\n",
       "      <th>cut</th>\n",
       "      <th>color</th>\n",
       "      <th>clarity</th>\n",
       "      <th>depth</th>\n",
       "      <th>table</th>\n",
       "      <th>price</th>\n",
       "      <th>x</th>\n",
       "      <th>y</th>\n",
       "      <th>z</th>\n",
       "    </tr>\n",
       "    <tr>\n",
       "      <th>carat</th>\n",
       "      <th></th>\n",
       "      <th></th>\n",
       "      <th></th>\n",
       "      <th></th>\n",
       "      <th></th>\n",
       "      <th></th>\n",
       "      <th></th>\n",
       "      <th></th>\n",
       "      <th></th>\n",
       "    </tr>\n",
       "  </thead>\n",
       "  <tbody>\n",
       "    <tr>\n",
       "      <th>0.23</th>\n",
       "      <td>Ideal</td>\n",
       "      <td>E</td>\n",
       "      <td>SI2</td>\n",
       "      <td>61.5</td>\n",
       "      <td>55.0</td>\n",
       "      <td>326</td>\n",
       "      <td>3.95</td>\n",
       "      <td>3.98</td>\n",
       "      <td>2.43</td>\n",
       "    </tr>\n",
       "    <tr>\n",
       "      <th>0.21</th>\n",
       "      <td>Premium</td>\n",
       "      <td>E</td>\n",
       "      <td>SI1</td>\n",
       "      <td>59.8</td>\n",
       "      <td>61.0</td>\n",
       "      <td>326</td>\n",
       "      <td>3.89</td>\n",
       "      <td>3.84</td>\n",
       "      <td>2.31</td>\n",
       "    </tr>\n",
       "    <tr>\n",
       "      <th>0.23</th>\n",
       "      <td>Good</td>\n",
       "      <td>E</td>\n",
       "      <td>VS1</td>\n",
       "      <td>56.9</td>\n",
       "      <td>65.0</td>\n",
       "      <td>327</td>\n",
       "      <td>4.05</td>\n",
       "      <td>4.07</td>\n",
       "      <td>2.31</td>\n",
       "    </tr>\n",
       "    <tr>\n",
       "      <th>0.29</th>\n",
       "      <td>Premium</td>\n",
       "      <td>I</td>\n",
       "      <td>VS2</td>\n",
       "      <td>62.4</td>\n",
       "      <td>58.0</td>\n",
       "      <td>334</td>\n",
       "      <td>4.20</td>\n",
       "      <td>4.23</td>\n",
       "      <td>2.63</td>\n",
       "    </tr>\n",
       "    <tr>\n",
       "      <th>0.31</th>\n",
       "      <td>Good</td>\n",
       "      <td>J</td>\n",
       "      <td>SI2</td>\n",
       "      <td>63.3</td>\n",
       "      <td>58.0</td>\n",
       "      <td>335</td>\n",
       "      <td>4.34</td>\n",
       "      <td>4.35</td>\n",
       "      <td>2.75</td>\n",
       "    </tr>\n",
       "    <tr>\n",
       "      <th>0.24</th>\n",
       "      <td>Very Good</td>\n",
       "      <td>J</td>\n",
       "      <td>VVS2</td>\n",
       "      <td>62.8</td>\n",
       "      <td>57.0</td>\n",
       "      <td>336</td>\n",
       "      <td>3.94</td>\n",
       "      <td>3.96</td>\n",
       "      <td>2.48</td>\n",
       "    </tr>\n",
       "    <tr>\n",
       "      <th>0.24</th>\n",
       "      <td>Very Good</td>\n",
       "      <td>I</td>\n",
       "      <td>VVS1</td>\n",
       "      <td>62.3</td>\n",
       "      <td>57.0</td>\n",
       "      <td>336</td>\n",
       "      <td>3.95</td>\n",
       "      <td>3.98</td>\n",
       "      <td>2.47</td>\n",
       "    </tr>\n",
       "  </tbody>\n",
       "</table>\n",
       "</div>"
      ],
      "text/plain": [
       "             cut color clarity  depth  table  price     x     y     z\n",
       "carat                                                                \n",
       "0.23       Ideal     E     SI2   61.5   55.0    326  3.95  3.98  2.43\n",
       "0.21     Premium     E     SI1   59.8   61.0    326  3.89  3.84  2.31\n",
       "0.23        Good     E     VS1   56.9   65.0    327  4.05  4.07  2.31\n",
       "0.29     Premium     I     VS2   62.4   58.0    334  4.20  4.23  2.63\n",
       "0.31        Good     J     SI2   63.3   58.0    335  4.34  4.35  2.75\n",
       "0.24   Very Good     J    VVS2   62.8   57.0    336  3.94  3.96  2.48\n",
       "0.24   Very Good     I    VVS1   62.3   57.0    336  3.95  3.98  2.47"
      ]
     },
     "execution_count": 7,
     "metadata": {},
     "output_type": "execute_result"
    }
   ],
   "source": [
    "df.head(7)"
   ]
  },
  {
   "cell_type": "code",
   "execution_count": 8,
   "metadata": {},
   "outputs": [
    {
     "data": {
      "text/html": [
       "<div>\n",
       "<style scoped>\n",
       "    .dataframe tbody tr th:only-of-type {\n",
       "        vertical-align: middle;\n",
       "    }\n",
       "\n",
       "    .dataframe tbody tr th {\n",
       "        vertical-align: top;\n",
       "    }\n",
       "\n",
       "    .dataframe thead th {\n",
       "        text-align: right;\n",
       "    }\n",
       "</style>\n",
       "<table border=\"1\" class=\"dataframe\">\n",
       "  <thead>\n",
       "    <tr style=\"text-align: right;\">\n",
       "      <th></th>\n",
       "      <th>cut</th>\n",
       "      <th>color</th>\n",
       "      <th>clarity</th>\n",
       "      <th>depth</th>\n",
       "      <th>table</th>\n",
       "      <th>price</th>\n",
       "      <th>x</th>\n",
       "      <th>y</th>\n",
       "      <th>z</th>\n",
       "    </tr>\n",
       "    <tr>\n",
       "      <th>carat</th>\n",
       "      <th></th>\n",
       "      <th></th>\n",
       "      <th></th>\n",
       "      <th></th>\n",
       "      <th></th>\n",
       "      <th></th>\n",
       "      <th></th>\n",
       "      <th></th>\n",
       "      <th></th>\n",
       "    </tr>\n",
       "  </thead>\n",
       "  <tbody>\n",
       "    <tr>\n",
       "      <th>0.70</th>\n",
       "      <td>Very Good</td>\n",
       "      <td>E</td>\n",
       "      <td>VS2</td>\n",
       "      <td>61.2</td>\n",
       "      <td>59.0</td>\n",
       "      <td>2757</td>\n",
       "      <td>5.69</td>\n",
       "      <td>5.72</td>\n",
       "      <td>3.49</td>\n",
       "    </tr>\n",
       "    <tr>\n",
       "      <th>0.72</th>\n",
       "      <td>Premium</td>\n",
       "      <td>D</td>\n",
       "      <td>SI1</td>\n",
       "      <td>62.7</td>\n",
       "      <td>59.0</td>\n",
       "      <td>2757</td>\n",
       "      <td>5.69</td>\n",
       "      <td>5.73</td>\n",
       "      <td>3.58</td>\n",
       "    </tr>\n",
       "    <tr>\n",
       "      <th>0.72</th>\n",
       "      <td>Ideal</td>\n",
       "      <td>D</td>\n",
       "      <td>SI1</td>\n",
       "      <td>60.8</td>\n",
       "      <td>57.0</td>\n",
       "      <td>2757</td>\n",
       "      <td>5.75</td>\n",
       "      <td>5.76</td>\n",
       "      <td>3.50</td>\n",
       "    </tr>\n",
       "    <tr>\n",
       "      <th>0.72</th>\n",
       "      <td>Good</td>\n",
       "      <td>D</td>\n",
       "      <td>SI1</td>\n",
       "      <td>63.1</td>\n",
       "      <td>55.0</td>\n",
       "      <td>2757</td>\n",
       "      <td>5.69</td>\n",
       "      <td>5.75</td>\n",
       "      <td>3.61</td>\n",
       "    </tr>\n",
       "    <tr>\n",
       "      <th>0.70</th>\n",
       "      <td>Very Good</td>\n",
       "      <td>D</td>\n",
       "      <td>SI1</td>\n",
       "      <td>62.8</td>\n",
       "      <td>60.0</td>\n",
       "      <td>2757</td>\n",
       "      <td>5.66</td>\n",
       "      <td>5.68</td>\n",
       "      <td>3.56</td>\n",
       "    </tr>\n",
       "    <tr>\n",
       "      <th>0.86</th>\n",
       "      <td>Premium</td>\n",
       "      <td>H</td>\n",
       "      <td>SI2</td>\n",
       "      <td>61.0</td>\n",
       "      <td>58.0</td>\n",
       "      <td>2757</td>\n",
       "      <td>6.15</td>\n",
       "      <td>6.12</td>\n",
       "      <td>3.74</td>\n",
       "    </tr>\n",
       "    <tr>\n",
       "      <th>0.75</th>\n",
       "      <td>Ideal</td>\n",
       "      <td>D</td>\n",
       "      <td>SI2</td>\n",
       "      <td>62.2</td>\n",
       "      <td>55.0</td>\n",
       "      <td>2757</td>\n",
       "      <td>5.83</td>\n",
       "      <td>5.87</td>\n",
       "      <td>3.64</td>\n",
       "    </tr>\n",
       "  </tbody>\n",
       "</table>\n",
       "</div>"
      ],
      "text/plain": [
       "             cut color clarity  depth  table  price     x     y     z\n",
       "carat                                                                \n",
       "0.70   Very Good     E     VS2   61.2   59.0   2757  5.69  5.72  3.49\n",
       "0.72     Premium     D     SI1   62.7   59.0   2757  5.69  5.73  3.58\n",
       "0.72       Ideal     D     SI1   60.8   57.0   2757  5.75  5.76  3.50\n",
       "0.72        Good     D     SI1   63.1   55.0   2757  5.69  5.75  3.61\n",
       "0.70   Very Good     D     SI1   62.8   60.0   2757  5.66  5.68  3.56\n",
       "0.86     Premium     H     SI2   61.0   58.0   2757  6.15  6.12  3.74\n",
       "0.75       Ideal     D     SI2   62.2   55.0   2757  5.83  5.87  3.64"
      ]
     },
     "execution_count": 8,
     "metadata": {},
     "output_type": "execute_result"
    }
   ],
   "source": [
    "df.tail(7)"
   ]
  },
  {
   "cell_type": "markdown",
   "metadata": {},
   "source": [
    "### Section 3-Describe: Use the DataFrame describe() function to calculate basic descriptive statistics for all numeric columns. "
   ]
  },
  {
   "cell_type": "code",
   "execution_count": 9,
   "metadata": {},
   "outputs": [
    {
     "data": {
      "text/html": [
       "<div>\n",
       "<style scoped>\n",
       "    .dataframe tbody tr th:only-of-type {\n",
       "        vertical-align: middle;\n",
       "    }\n",
       "\n",
       "    .dataframe tbody tr th {\n",
       "        vertical-align: top;\n",
       "    }\n",
       "\n",
       "    .dataframe thead th {\n",
       "        text-align: right;\n",
       "    }\n",
       "</style>\n",
       "<table border=\"1\" class=\"dataframe\">\n",
       "  <thead>\n",
       "    <tr style=\"text-align: right;\">\n",
       "      <th></th>\n",
       "      <th>depth</th>\n",
       "      <th>table</th>\n",
       "      <th>price</th>\n",
       "      <th>x</th>\n",
       "      <th>y</th>\n",
       "      <th>z</th>\n",
       "    </tr>\n",
       "  </thead>\n",
       "  <tbody>\n",
       "    <tr>\n",
       "      <th>count</th>\n",
       "      <td>50000.000000</td>\n",
       "      <td>50000.000000</td>\n",
       "      <td>50000.000000</td>\n",
       "      <td>50000.000000</td>\n",
       "      <td>50000.000000</td>\n",
       "      <td>50000.000000</td>\n",
       "    </tr>\n",
       "    <tr>\n",
       "      <th>mean</th>\n",
       "      <td>61.753006</td>\n",
       "      <td>57.457830</td>\n",
       "      <td>3944.805440</td>\n",
       "      <td>5.734403</td>\n",
       "      <td>5.737956</td>\n",
       "      <td>3.541056</td>\n",
       "    </tr>\n",
       "    <tr>\n",
       "      <th>std</th>\n",
       "      <td>1.431088</td>\n",
       "      <td>2.232092</td>\n",
       "      <td>3997.938105</td>\n",
       "      <td>1.123077</td>\n",
       "      <td>1.145579</td>\n",
       "      <td>0.707065</td>\n",
       "    </tr>\n",
       "    <tr>\n",
       "      <th>min</th>\n",
       "      <td>43.000000</td>\n",
       "      <td>43.000000</td>\n",
       "      <td>326.000000</td>\n",
       "      <td>0.000000</td>\n",
       "      <td>0.000000</td>\n",
       "      <td>0.000000</td>\n",
       "    </tr>\n",
       "    <tr>\n",
       "      <th>25%</th>\n",
       "      <td>61.000000</td>\n",
       "      <td>56.000000</td>\n",
       "      <td>951.000000</td>\n",
       "      <td>4.710000</td>\n",
       "      <td>4.720000</td>\n",
       "      <td>2.910000</td>\n",
       "    </tr>\n",
       "    <tr>\n",
       "      <th>50%</th>\n",
       "      <td>61.800000</td>\n",
       "      <td>57.000000</td>\n",
       "      <td>2410.000000</td>\n",
       "      <td>5.700000</td>\n",
       "      <td>5.710000</td>\n",
       "      <td>3.530000</td>\n",
       "    </tr>\n",
       "    <tr>\n",
       "      <th>75%</th>\n",
       "      <td>62.500000</td>\n",
       "      <td>59.000000</td>\n",
       "      <td>5351.000000</td>\n",
       "      <td>6.540000</td>\n",
       "      <td>6.540000</td>\n",
       "      <td>4.040000</td>\n",
       "    </tr>\n",
       "    <tr>\n",
       "      <th>max</th>\n",
       "      <td>79.000000</td>\n",
       "      <td>95.000000</td>\n",
       "      <td>18823.000000</td>\n",
       "      <td>10.740000</td>\n",
       "      <td>58.900000</td>\n",
       "      <td>31.800000</td>\n",
       "    </tr>\n",
       "  </tbody>\n",
       "</table>\n",
       "</div>"
      ],
      "text/plain": [
       "              depth         table         price             x             y  \\\n",
       "count  50000.000000  50000.000000  50000.000000  50000.000000  50000.000000   \n",
       "mean      61.753006     57.457830   3944.805440      5.734403      5.737956   \n",
       "std        1.431088      2.232092   3997.938105      1.123077      1.145579   \n",
       "min       43.000000     43.000000    326.000000      0.000000      0.000000   \n",
       "25%       61.000000     56.000000    951.000000      4.710000      4.720000   \n",
       "50%       61.800000     57.000000   2410.000000      5.700000      5.710000   \n",
       "75%       62.500000     59.000000   5351.000000      6.540000      6.540000   \n",
       "max       79.000000     95.000000  18823.000000     10.740000     58.900000   \n",
       "\n",
       "                  z  \n",
       "count  50000.000000  \n",
       "mean       3.541056  \n",
       "std        0.707065  \n",
       "min        0.000000  \n",
       "25%        2.910000  \n",
       "50%        3.530000  \n",
       "75%        4.040000  \n",
       "max       31.800000  "
      ]
     },
     "execution_count": 9,
     "metadata": {},
     "output_type": "execute_result"
    }
   ],
   "source": [
    "df.describe()"
   ]
  },
  {
   "cell_type": "markdown",
   "metadata": {},
   "source": [
    "### Section 4-Series: Use the Series method describe() to calculate the descriptive stats for all category/text columns."
   ]
  },
  {
   "cell_type": "code",
   "execution_count": 17,
   "metadata": {},
   "outputs": [
    {
     "data": {
      "text/plain": [
       "carat\n",
       "0.23        Ideal\n",
       "0.21      Premium\n",
       "0.23         Good\n",
       "0.29      Premium\n",
       "0.31         Good\n",
       "          ...    \n",
       "0.72        Ideal\n",
       "0.72         Good\n",
       "0.70    Very Good\n",
       "0.86      Premium\n",
       "0.75        Ideal\n",
       "Name: cut, Length: 50000, dtype: object"
      ]
     },
     "execution_count": 17,
     "metadata": {},
     "output_type": "execute_result"
    }
   ],
   "source": [
    "df['cut']"
   ]
  },
  {
   "cell_type": "code",
   "execution_count": 16,
   "metadata": {},
   "outputs": [
    {
     "data": {
      "text/plain": [
       "carat\n",
       "0.23    E\n",
       "0.21    E\n",
       "0.23    E\n",
       "0.29    I\n",
       "0.31    J\n",
       "       ..\n",
       "0.72    D\n",
       "0.72    D\n",
       "0.70    D\n",
       "0.86    H\n",
       "0.75    D\n",
       "Name: color, Length: 50000, dtype: object"
      ]
     },
     "execution_count": 16,
     "metadata": {},
     "output_type": "execute_result"
    }
   ],
   "source": [
    "df['color']"
   ]
  },
  {
   "cell_type": "code",
   "execution_count": 18,
   "metadata": {},
   "outputs": [
    {
     "data": {
      "text/plain": [
       "carat\n",
       "0.23    SI2\n",
       "0.21    SI1\n",
       "0.23    VS1\n",
       "0.29    VS2\n",
       "0.31    SI2\n",
       "       ... \n",
       "0.72    SI1\n",
       "0.72    SI1\n",
       "0.70    SI1\n",
       "0.86    SI2\n",
       "0.75    SI2\n",
       "Name: clarity, Length: 50000, dtype: object"
      ]
     },
     "execution_count": 18,
     "metadata": {},
     "output_type": "execute_result"
    }
   ],
   "source": [
    "df['clarity']"
   ]
  },
  {
   "cell_type": "markdown",
   "metadata": {},
   "source": [
    "### Section 5-Unique: Use the Series method unique() to get unique category values. "
   ]
  },
  {
   "cell_type": "code",
   "execution_count": 21,
   "metadata": {},
   "outputs": [
    {
     "data": {
      "text/plain": [
       "array(['Ideal', 'Premium', 'Good', 'Very Good', 'Fair'], dtype=object)"
      ]
     },
     "execution_count": 21,
     "metadata": {},
     "output_type": "execute_result"
    }
   ],
   "source": [
    "#column category values\n",
    "df.cut.unique()"
   ]
  },
  {
   "cell_type": "code",
   "execution_count": 22,
   "metadata": {},
   "outputs": [
    {
     "data": {
      "text/plain": [
       "array(['E', 'I', 'J', 'H', 'F', 'G', 'D'], dtype=object)"
      ]
     },
     "execution_count": 22,
     "metadata": {},
     "output_type": "execute_result"
    }
   ],
   "source": [
    "df.color.unique()"
   ]
  },
  {
   "cell_type": "code",
   "execution_count": 23,
   "metadata": {},
   "outputs": [
    {
     "data": {
      "text/plain": [
       "array(['SI2', 'SI1', 'VS1', 'VS2', 'VVS2', 'VVS1', 'I1', 'IF'],\n",
       "      dtype=object)"
      ]
     },
     "execution_count": 23,
     "metadata": {},
     "output_type": "execute_result"
    }
   ],
   "source": [
    "df.clarity.unique()"
   ]
  },
  {
   "cell_type": "code",
   "execution_count": 24,
   "metadata": {},
   "outputs": [
    {
     "data": {
      "text/plain": [
       "array([61.5, 59.8, 56.9, 62.4, 63.3, 62.8, 62.3, 61.9, 65.1, 59.4, 64. ,\n",
       "       60.4, 62.2, 60.2, 60.9, 62. , 63.4, 63.8, 62.7, 61. , 58.1, 62.5,\n",
       "       60.5, 60. , 60.7, 59.5, 58.2, 64.1, 60.8, 61.8, 61.2, 61.1, 65.2,\n",
       "       58.4, 63.1, 61.6, 59.3, 62.6, 63. , 63.2, 62.9, 63.7, 59.2, 59.9,\n",
       "       62.1, 55.1, 57.5, 66.3, 61.7, 58.8, 61.4, 64.5, 65.3, 59.6, 64.4,\n",
       "       65.7, 63.6, 61.3, 60.1, 60.3, 64.6, 67.9, 60.6, 57.2, 64.2, 65.8,\n",
       "       67.4, 58. , 57.8, 63.5, 67.3, 58.7, 66.4, 68.1, 63.9, 55. , 58.6,\n",
       "       64.3, 58.5, 65. , 56. , 58.3, 53.1, 59.7, 64.9, 59.1, 59. , 58.9,\n",
       "       66.7, 57.7, 65.4, 53.3, 67.8, 66.1, 67.6, 65.5, 67.7, 69.5, 56.3,\n",
       "       66.9, 57.9, 66. , 67. , 57.6, 67.1, 65.6, 64.8, 69.3, 66.2, 55.4,\n",
       "       66.8, 64.7, 66.6, 55.9, 57.3, 68.2, 57.4, 68.3, 68.5, 56.2, 65.9,\n",
       "       56.5, 56.1, 66.5, 68.4, 69.7, 57.1, 56.7, 68.6, 71.6, 68.7, 43. ,\n",
       "       68.8, 67.5, 69. , 55.2, 68.9, 69.6, 57. , 56.4, 56.8, 67.2, 70.1,\n",
       "       71.3, 70.6, 69.8, 71.8, 53.8, 53.2, 70. , 69.4, 55.8, 56.6, 70.2,\n",
       "       68. , 50.8, 55.6, 70.5, 71. , 69.1, 55.3, 54.2, 51. , 70.8, 54.6,\n",
       "       54. , 54.4, 52.3, 55.5, 78.2, 71.2, 54.3, 69.2, 73.6, 52.2, 69.9,\n",
       "       53.4, 72.2, 79. , 72.9, 54.7])"
      ]
     },
     "execution_count": 24,
     "metadata": {},
     "output_type": "execute_result"
    }
   ],
   "source": [
    "df.depth.unique()"
   ]
  },
  {
   "cell_type": "code",
   "execution_count": 25,
   "metadata": {},
   "outputs": [
    {
     "data": {
      "text/plain": [
       "array([55. , 61. , 65. , 58. , 57. , 56. , 54. , 62. , 59. , 63. , 60. ,\n",
       "       55.3, 69. , 53. , 64. , 56.4, 52. , 55.8, 66. , 68. , 67. , 54.4,\n",
       "       57.1, 53.6, 54.2, 54.9, 56.7, 53.9, 57.8, 54.1, 55.1, 58.1, 56.9,\n",
       "       56.5, 53.7, 60.7, 56.2, 56.6, 56.1, 56.3, 57.2, 57.5, 59.8, 60.1,\n",
       "       55.9, 54.8, 50.1, 62.2, 54.5, 55.7, 60.9, 51. , 53.4, 58.8, 59.4,\n",
       "       62.5, 54.3, 60.6, 55.2, 58.6, 49. , 50. , 54.6, 62.6, 57.7, 56.8,\n",
       "       57.9, 59.5, 57.4, 62.4, 60.4, 53.3, 60.8, 58.5, 57.6, 43. , 59.9,\n",
       "       63.5, 57.3, 61.4, 58.3, 55.4, 58.2, 55.6, 53.5, 59.7, 54.7, 55.5,\n",
       "       58.7, 53.8, 60.2, 59.1, 53.2, 59.3, 70. , 61.1, 51.6, 95. , 59.2,\n",
       "       60.5, 58.4, 53.1, 52.8, 44. , 61.3, 61.2, 61.9, 60.3, 59.6, 61.5,\n",
       "       58.9, 64.3, 62.8, 71. , 62.3, 52.4, 63.3, 61.7, 64.2, 73. , 65.4,\n",
       "       63.4, 62.1, 79. , 76. , 61.6])"
      ]
     },
     "execution_count": 25,
     "metadata": {},
     "output_type": "execute_result"
    }
   ],
   "source": [
    "df.table.unique()"
   ]
  },
  {
   "cell_type": "code",
   "execution_count": 26,
   "metadata": {},
   "outputs": [
    {
     "data": {
      "text/plain": [
       "array([ 326,  327,  334, ..., 2753, 2755, 2756], dtype=int64)"
      ]
     },
     "execution_count": 26,
     "metadata": {},
     "output_type": "execute_result"
    }
   ],
   "source": [
    "df.price.unique()"
   ]
  },
  {
   "cell_type": "code",
   "execution_count": 27,
   "metadata": {},
   "outputs": [
    {
     "data": {
      "text/plain": [
       "array([ 3.95,  3.89,  4.05,  4.2 ,  4.34,  3.94,  4.07,  3.87,  4.  ,\n",
       "        4.25,  3.93,  3.88,  4.35,  3.79,  4.38,  4.31,  4.23,  4.21,\n",
       "        3.85,  4.39,  4.44,  3.97,  4.28,  3.96,  4.04,  4.01,  3.92,\n",
       "        4.06,  3.83,  4.29,  4.13,  4.49,  3.99,  4.19,  4.24,  4.33,\n",
       "        4.02,  3.91,  4.3 ,  4.43,  4.54,  4.78,  4.15,  4.08,  4.03,\n",
       "        4.65,  5.7 ,  6.45,  5.68,  5.81,  5.85,  5.71,  6.27,  5.77,\n",
       "        5.97,  5.8 ,  6.  ,  5.94,  5.87,  5.9 ,  6.14,  5.38,  5.96,\n",
       "        6.16,  5.73,  5.98,  5.72,  6.01,  5.64,  5.57,  5.63,  5.65,\n",
       "        6.09,  5.56,  6.11,  6.03,  5.89,  5.69,  5.62,  5.88,  5.52,\n",
       "        5.74,  5.53,  5.78,  5.83,  5.66,  5.79,  5.92,  5.39,  5.33,\n",
       "        6.83,  5.25,  5.24,  5.67,  5.61,  5.76,  5.82,  6.05,  5.6 ,\n",
       "        5.19,  5.84,  6.39,  5.34,  5.14,  5.11,  5.54,  6.07,  6.29,\n",
       "        6.31,  6.49,  5.28,  5.48,  6.41,  6.02,  5.91,  6.61,  5.12,\n",
       "        6.19,  5.43,  6.17,  5.99,  5.95,  6.37,  5.93,  6.46,  5.22,\n",
       "        5.75,  6.21,  5.41,  6.15,  6.73,  5.49,  4.37,  4.47,  4.26,\n",
       "        4.27,  4.36,  4.32,  4.48,  4.5 ,  4.56,  4.94,  4.09,  6.72,\n",
       "        5.15,  6.3 ,  5.86,  5.23,  6.08,  6.62,  6.26,  6.55,  6.2 ,\n",
       "        6.43,  6.36,  6.34,  5.2 ,  5.37,  6.04,  6.06,  5.51,  6.9 ,\n",
       "        6.24,  5.36,  5.16,  5.45,  5.47,  6.12,  6.6 ,  6.35,  7.12,\n",
       "        6.25,  6.1 ,  6.75,  6.22,  6.78,  6.38,  6.82,  5.44,  4.57,\n",
       "        4.6 ,  4.52,  4.42,  4.45,  4.41,  4.46,  6.93,  6.4 ,  5.27,\n",
       "        5.21,  6.47,  6.13,  5.59,  6.44,  5.55,  6.53,  6.5 ,  6.32,\n",
       "        5.08,  5.09,  5.3 ,  6.68,  6.51,  6.23,  5.42,  4.66,  4.4 ,\n",
       "        6.18,  5.58,  5.03,  6.85,  6.67,  6.28,  6.57,  7.26,  4.18,\n",
       "        4.77,  6.52,  6.42,  6.54,  5.46,  6.77,  6.63,  5.35,  5.17,\n",
       "        4.64,  6.81,  5.5 ,  6.33,  5.4 ,  7.53,  6.48,  6.58,  7.01,\n",
       "        6.79,  6.59,  6.64,  6.92,  6.99,  4.67,  6.65,  6.69,  6.8 ,\n",
       "        4.58,  4.55,  4.16,  4.12,  4.51,  6.71,  6.95,  4.14,  4.53,\n",
       "        6.89,  6.91,  6.66,  6.76,  6.96,  4.61,  4.69,  4.71,  4.1 ,\n",
       "        4.7 ,  7.4 ,  5.29,  5.26,  5.31,  5.32,  7.18,  6.87,  6.74,\n",
       "        6.56,  7.43,  6.7 ,  7.37,  7.  ,  4.11,  4.63,  4.85,  6.94,\n",
       "        7.22,  7.06,  7.05,  7.09,  7.17,  4.73,  4.75,  7.02,  7.16,\n",
       "        7.11,  7.29,  6.88,  7.1 ,  4.98,  6.84,  7.15,  6.98,  7.31,\n",
       "        7.38,  7.33,  4.17,  4.59,  7.28,  7.08,  6.86,  6.97,  4.22,\n",
       "        4.62,  4.68,  7.07,  7.34,  7.21,  4.89,  7.03,  4.79,  4.74,\n",
       "        7.25,  7.45,  7.19,  7.04,  7.62,  7.14,  3.98,  4.8 ,  7.44,\n",
       "        0.  ,  7.13,  7.32,  7.2 ,  7.48,  8.1 ,  8.11,  7.27,  7.23,\n",
       "        7.42,  7.7 ,  4.72,  7.3 ,  7.24,  7.79,  7.54,  7.63,  4.83,\n",
       "        7.46,  7.74,  4.84,  8.01,  7.39,  7.59,  7.36,  7.56,  4.87,\n",
       "        4.76,  8.04,  7.78,  7.8 ,  7.71,  8.48,  7.61,  8.05,  7.55,\n",
       "        7.6 ,  7.5 ,  7.91,  7.81,  7.52,  8.03,  8.23,  7.41,  7.68,\n",
       "        7.57,  7.35,  8.26,  7.84,  7.58,  8.  ,  8.19,  7.77,  7.87,\n",
       "        7.47,  8.25,  7.76,  9.23,  7.97,  8.31,  8.3 ,  7.82,  4.88,\n",
       "        7.93,  7.73,  7.89,  7.66,  7.75,  8.75,  7.88,  7.99,  8.46,\n",
       "        7.51,  7.69,  7.64,  8.24,  8.15,  7.49,  8.71,  7.83,  8.39,\n",
       "        7.72,  8.13,  4.82,  7.65,  9.1 ,  8.93,  8.16,  7.94,  7.85,\n",
       "        8.64,  7.67,  4.91,  4.81,  8.14,  7.86,  8.45,  7.9 ,  8.47,\n",
       "        8.07,  8.55,  8.76,  7.96,  8.28,  8.4 ,  8.37,  8.52,  8.43,\n",
       "        8.09,  7.98,  8.81,  8.54,  8.02,  8.08,  8.18,  4.92,  8.12,\n",
       "        9.15,  8.17,  9.24,  8.33,  8.34,  7.92,  8.57,  7.95,  8.06,\n",
       "        9.26,  8.82,  9.11,  8.27,  8.66,  8.22,  9.54,  9.38,  8.36,\n",
       "        8.41,  8.53,  8.42,  8.44,  8.21,  8.51,  8.49,  8.29,  8.2 ,\n",
       "        9.08,  9.17,  8.6 ,  9.53,  8.7 ,  8.32,  8.65,  9.44,  8.38,\n",
       "        8.61,  8.58,  9.49,  9.65,  8.83,  8.5 ,  8.79,  8.63,  8.74,\n",
       "        9.42,  8.8 ,  8.35,  8.87,  8.84,  8.56,  8.88,  8.59,  8.69,\n",
       "        9.32,  9.03,  8.72, 10.14, 10.02,  8.62,  8.85,  9.14,  8.67,\n",
       "        8.99, 10.01,  8.78,  9.25,  9.86,  8.77,  8.73,  8.68,  9.3 ,\n",
       "        9.13,  9.05, 10.  ,  8.9 ,  8.97, 10.74,  9.36,  9.06,  8.89,\n",
       "       10.23,  9.51,  9.66,  9.35,  9.41,  4.86,  4.9 ,  3.9 ,  3.86,\n",
       "        4.93,  4.96,  5.04,  5.  ,  4.95,  5.01,  5.05,  3.81,  3.84,\n",
       "        3.73,  3.74,  3.76,  3.77,  4.97,  4.99,  5.18,  5.06,  5.02,\n",
       "        5.1 ,  5.07,  5.13,  3.82])"
      ]
     },
     "execution_count": 27,
     "metadata": {},
     "output_type": "execute_result"
    }
   ],
   "source": [
    "df.x.unique()"
   ]
  },
  {
   "cell_type": "code",
   "execution_count": 28,
   "metadata": {},
   "outputs": [
    {
     "data": {
      "text/plain": [
       "array([ 3.98,  3.84,  4.07,  4.23,  4.35,  3.96,  4.11,  3.78,  4.05,\n",
       "        4.28,  3.9 ,  4.37,  3.75,  4.42,  4.34,  4.29,  4.26,  4.27,\n",
       "        3.92,  4.43,  4.47,  4.01,  3.94,  4.3 ,  3.97,  3.99,  4.03,\n",
       "        4.06,  4.08,  3.85,  4.31,  4.16,  4.51,  4.5 ,  4.55,  4.02,\n",
       "        4.24,  3.95,  3.89,  3.88,  4.33,  4.38,  4.32,  4.59,  4.84,\n",
       "        4.  ,  4.25,  4.22,  4.13,  4.09,  4.04,  4.12,  4.67,  5.72,\n",
       "        6.33,  5.67,  5.73,  5.85,  5.9 ,  5.76,  5.95,  5.78,  5.93,\n",
       "        5.75,  5.96,  5.79,  5.87,  5.8 ,  5.81,  6.11,  5.43,  6.  ,\n",
       "        5.84,  6.12,  5.82,  5.74,  5.94,  6.07,  5.83,  5.61,  5.53,\n",
       "        5.58,  5.59,  5.97,  6.09,  5.99,  5.86,  5.68,  5.65,  5.55,\n",
       "        5.77,  5.91,  5.56,  5.89,  5.92,  6.03,  5.44,  5.37,  5.88,\n",
       "        6.9 ,  5.69,  5.62,  5.27,  5.26,  5.7 ,  5.64,  5.63,  5.71,\n",
       "        5.51,  5.22,  6.36,  5.66,  5.18,  5.15,  6.1 ,  6.21,  6.22,\n",
       "        6.45,  5.3 ,  5.41,  6.27,  6.05,  6.55,  6.01,  5.35,  5.16,\n",
       "        6.25,  6.02,  5.46,  6.23,  6.08,  5.45,  6.41,  5.25,  6.15,\n",
       "        6.19,  6.66,  6.06,  4.36,  4.2 ,  4.57,  4.52,  4.53,  4.58,\n",
       "        5.  ,  6.67,  5.11,  6.29,  6.04,  6.53,  6.65,  6.5 ,  5.54,\n",
       "        6.13,  5.52,  6.16,  5.6 ,  6.39,  5.21,  5.4 ,  6.83,  6.37,\n",
       "        6.31,  5.38,  6.43,  5.29,  5.19,  5.98,  6.18,  5.34,  5.48,\n",
       "        5.23,  6.14,  6.2 ,  6.46,  7.05,  6.26,  6.75,  6.74,  5.49,\n",
       "        4.66,  4.46,  4.56,  4.41,  4.4 ,  4.39,  5.57,  6.88,  5.31,\n",
       "        6.3 ,  6.48,  5.47,  5.13,  6.49,  6.47,  5.12,  6.35,  6.61,\n",
       "        4.7 ,  6.24,  6.28,  5.08,  6.44,  6.79,  6.57,  6.92,  6.6 ,\n",
       "        6.34,  5.28,  5.42,  5.5 ,  6.32,  7.09,  4.45,  4.62,  4.8 ,\n",
       "        6.42,  6.54,  6.7 ,  6.51,  6.59,  6.38,  6.69,  5.06,  4.69,\n",
       "        4.49,  6.71,  6.4 ,  5.24,  6.17,  5.39,  6.77,  5.2 ,  7.42,\n",
       "        4.44,  6.52,  6.95,  6.56,  6.62,  6.87,  6.81,  6.58,  6.73,\n",
       "        5.17,  6.85,  4.65,  4.19,  4.61,  6.64,  6.91,  6.8 ,  4.71,\n",
       "        4.15,  4.21,  4.68,  6.84,  6.86,  4.96,  4.64,  4.74,  4.73,\n",
       "        4.6 ,  4.75,  7.28,  5.32,  6.82,  6.63,  7.13,  4.1 ,  4.63,\n",
       "        7.35,  6.68,  7.26,  6.78,  4.17,  4.9 ,  6.89,  7.01,  7.1 ,\n",
       "        6.72,  7.  ,  5.36,  4.76,  4.78,  6.96,  7.15,  7.19,  6.93,\n",
       "        4.54,  7.34,  6.76,  7.18,  4.14,  7.04,  7.22,  7.2 ,  6.94,\n",
       "        7.16,  7.21,  4.18,  7.32,  4.48,  7.06,  6.99,  4.72,  7.03,\n",
       "        6.97,  7.29,  4.81,  6.98,  7.33,  7.23,  7.25,  7.02,  7.59,\n",
       "        7.11,  4.82,  7.07,  7.36,  7.08,  7.4 ,  7.41,  8.05,  8.06,\n",
       "        0.  ,  4.83,  7.44,  7.79,  8.07,  7.14,  7.12,  7.24,  7.7 ,\n",
       "        7.45,  7.56,  4.88,  7.39,  7.27,  7.95,  4.87,  7.31,  7.51,\n",
       "        4.77,  4.89,  4.79,  8.02,  7.37,  7.49,  7.74,  7.75,  7.64,\n",
       "        8.39,  7.55,  8.  ,  7.48,  7.5 ,  7.17,  7.54,  7.47,  7.53,\n",
       "        7.85,  7.6 ,  7.3 ,  7.99,  7.57,  8.18,  7.43,  7.8 ,  7.92,\n",
       "        7.72,  8.2 ,  7.38,  7.65,  7.63,  7.58,  7.73,  9.1 ,  8.27,\n",
       "        8.19,  7.76,  8.01,  7.52,  7.66,  7.46,  7.97,  4.94,  7.91,\n",
       "        7.86,  7.61,  8.69,  7.82,  7.9 ,  8.43,  7.62,  7.83,  8.3 ,\n",
       "        8.12,  7.71,  7.98,  8.56,  7.78,  8.22,  8.28,  4.85,  8.44,\n",
       "        7.87,  7.94,  8.97,  8.84,  8.11,  4.98,  8.09,  7.68,  8.25,\n",
       "        8.38,  8.67,  7.84,  4.86,  8.26,  8.66,  7.69,  8.32,  8.46,\n",
       "        8.35,  7.67,  7.81,  7.89,  8.04,  8.21,  7.96,  8.03,  8.77,\n",
       "        8.49,  8.17,  8.13,  7.77,  9.02,  8.08,  9.13,  7.88,  8.31,\n",
       "        8.33,  8.53,  8.5 ,  8.14,  8.81,  9.25,  8.15,  8.76,  8.23,\n",
       "        7.93,  8.16,  8.63,  9.38,  9.31,  8.34,  8.51,  8.47,  8.1 ,\n",
       "        8.45,  3.86,  8.96,  8.24,  9.48,  8.36,  8.58,  8.41,  8.61,\n",
       "        4.97, 58.9 ,  8.68,  9.4 ,  8.37,  8.48,  8.29,  8.4 ,  9.42,\n",
       "        9.59,  8.78,  8.54,  8.7 ,  9.26,  8.64,  8.65,  8.6 ,  8.57,\n",
       "        8.42,  9.37,  8.74,  8.59,  8.55,  9.01,  9.19,  8.98, 10.1 ,\n",
       "        9.94,  9.07,  8.52,  8.71,  9.34,  9.2 ,  9.81,  8.73,  8.82,\n",
       "        8.87,  8.75,  8.83,  8.79,  8.93,  9.14,  9.03,  8.9 ,  8.94,\n",
       "        9.85,  8.62, 10.54,  8.89, 10.16,  9.46,  9.63,  9.22,  9.32,\n",
       "        8.85,  4.91,  4.93,  4.92,  3.93,  4.95,  5.01,  4.99,  3.8 ,\n",
       "        3.71,  3.77,  3.73,  3.68,  3.72,  3.91,  5.07,  5.02,  5.05,\n",
       "        5.03,  5.09,  3.87,  5.14,  5.1 ,  5.04,  5.33,  3.83,  3.81,\n",
       "        3.82, 31.8 ])"
      ]
     },
     "execution_count": 28,
     "metadata": {},
     "output_type": "execute_result"
    }
   ],
   "source": [
    "df.y.unique()"
   ]
  },
  {
   "cell_type": "code",
   "execution_count": 29,
   "metadata": {},
   "outputs": [
    {
     "data": {
      "text/plain": [
       "array([ 2.43,  2.31,  2.63,  2.75,  2.48,  2.47,  2.53,  2.49,  2.39,\n",
       "        2.73,  2.46,  2.33,  2.71,  2.27,  2.68,  2.7 ,  2.66,  2.41,\n",
       "        2.62,  2.59,  2.67,  2.4 ,  2.42,  2.44,  2.37,  2.52,  2.78,\n",
       "        2.76,  2.61,  2.65,  2.54,  2.64,  2.45,  2.69,  2.96,  2.72,\n",
       "        2.51,  2.56,  2.55,  2.87,  3.57,  3.52,  3.5 ,  3.56,  3.72,\n",
       "        3.38,  3.4 ,  4.07,  3.66,  3.65,  3.58,  3.59,  3.63,  3.69,\n",
       "        3.61,  3.6 ,  3.35,  3.67,  3.62,  3.87,  3.68,  3.49,  3.47,\n",
       "        3.46,  3.7 ,  3.32,  3.93,  3.95,  3.64,  3.53,  3.37,  3.43,\n",
       "        3.51,  3.48,  3.55,  3.54,  3.33,  3.3 ,  4.13,  3.79,  3.24,\n",
       "        3.23,  4.08,  3.19,  3.94,  3.08,  3.31,  3.21,  3.75,  3.18,\n",
       "        3.41,  4.03,  4.09,  3.22,  4.18,  3.76,  3.83,  3.17,  3.44,\n",
       "        3.74,  3.8 ,  3.39,  3.88,  4.  ,  3.85,  3.96,  3.16,  3.78,\n",
       "        3.84,  4.33,  4.01,  3.45,  2.74,  2.8 ,  2.77,  2.9 ,  2.82,\n",
       "        3.77,  3.9 ,  3.73,  3.34,  3.86,  3.89,  3.81,  3.42,  3.71,\n",
       "        3.91,  3.2 ,  3.1 ,  4.06,  3.97,  4.02,  4.2 ,  4.11,  3.99,\n",
       "        4.23,  3.27,  3.92,  3.98,  4.15,  2.83,  2.79,  2.81,  4.04,\n",
       "        3.82,  4.21,  4.26,  4.29,  3.26,  2.88,  2.5 ,  4.16,  4.14,\n",
       "        4.12,  3.25,  4.7 ,  2.95,  4.19,  3.13,  4.1 ,  4.05,  4.27,\n",
       "        4.34,  3.14,  2.97,  4.17,  3.36,  4.42,  4.28,  4.38,  3.29,\n",
       "        0.  ,  4.25,  4.78,  2.99,  2.84,  4.22,  2.57,  2.6 ,  2.58,\n",
       "        3.15,  4.32,  4.3 ,  2.85,  3.01,  3.28,  4.65,  4.52,  4.47,\n",
       "        2.89,  4.24,  4.49,  4.57,  4.36,  4.8 ,  4.66,  4.54,  4.56,\n",
       "        4.62,  4.37,  4.46,  4.31,  2.91,  4.5 ,  4.39,  4.4 ,  4.55,\n",
       "        2.86,  2.35,  2.93,  4.41,  4.51,  4.45,  4.72,  4.48,  4.75,\n",
       "        4.84,  2.92,  4.87,  4.35,  4.44,  4.6 ,  4.81,  2.98,  4.68,\n",
       "        4.82,  3.  ,  4.76,  4.64,  2.94,  4.63,  4.58,  4.97,  5.12,\n",
       "        4.53,  4.59,  4.61,  4.95,  4.98,  4.79,  4.43,  5.36,  2.36,\n",
       "        5.23,  5.04,  4.74,  5.1 ,  4.92,  5.17,  4.71,  5.43,  1.07,\n",
       "        5.29,  4.67,  5.07,  5.19,  4.93,  5.15,  4.73,  5.08,  5.06,\n",
       "        5.45,  4.85,  5.27,  4.69,  5.18,  5.16,  4.94,  4.77,  5.25,\n",
       "        5.77,  5.02,  5.14,  5.44,  5.24,  4.99,  5.41,  5.58,  5.76,\n",
       "        5.22,  5.31,  5.09,  5.28,  5.01,  4.91,  5.47,  5.32,  4.89,\n",
       "        5.67,  5.97,  5.2 ,  4.83,  4.88,  5.53,  5.37,  5.65,  1.53,\n",
       "        4.9 ,  5.21,  5.05,  5.  ,  5.11,  5.35,  1.41,  4.96,  5.98,\n",
       "        5.03,  5.73,  4.86,  5.6 ,  5.66,  5.26,  5.91,  3.04,  5.33,\n",
       "        5.3 ,  5.79,  5.13,  6.38,  5.49,  5.34,  8.06,  5.85,  5.57,\n",
       "        5.92,  6.03,  3.02,  5.48,  5.62,  5.56,  5.46,  3.03,  5.55,\n",
       "        5.39,  5.5 ,  6.17,  6.24,  5.75,  6.27,  6.31,  5.69,  6.13,\n",
       "        5.54,  5.86,  5.38,  5.72,  5.4 ,  5.61,  6.43,  5.52,  5.42,\n",
       "        6.98,  5.9 ,  6.72,  5.64,  5.59,  3.06,  3.05,  3.07,  3.09,\n",
       "        2.24,  2.32,  2.28,  3.12,  3.11,  2.38,  2.29,  2.3 ,  2.25,\n",
       "        2.34, 31.8 ])"
      ]
     },
     "execution_count": 29,
     "metadata": {},
     "output_type": "execute_result"
    }
   ],
   "source": [
    "df.z.unique()"
   ]
  },
  {
   "cell_type": "code",
   "execution_count": 12,
   "metadata": {},
   "outputs": [
    {
     "data": {
      "text/plain": [
       "cut            5\n",
       "color          7\n",
       "clarity        8\n",
       "depth        181\n",
       "table        126\n",
       "price      11297\n",
       "x            553\n",
       "y            551\n",
       "z            371\n",
       "dtype: int64"
      ]
     },
     "execution_count": 12,
     "metadata": {},
     "output_type": "execute_result"
    }
   ],
   "source": [
    "#number of unique values per category\n",
    "df.nunique()"
   ]
  },
  {
   "cell_type": "markdown",
   "metadata": {},
   "source": [
    "### Section 6-Histograms: Use the DataFrame's hist() function to create a histogram for each numerical column."
   ]
  },
  {
   "cell_type": "code",
   "execution_count": 49,
   "metadata": {},
   "outputs": [
    {
     "data": {
      "image/png": "[encoded data removed]",
      "text/plain": [
       "<Figure size 640x480 with 6 Axes>"
      ]
     },
     "metadata": {},
     "output_type": "display_data"
    }
   ],
   "source": [
    "#I do not have a carat column in my cvs file.\n",
    "%matplotlib inline\n",
    "\n",
    "histogram = df.hist(bins=15)\n"
   ]
  }
 ],
 "metadata": {
  "kernelspec": {
   "display_name": ".venv",
   "language": "python",
   "name": "python3"
  },
  "language_info": {
   "codemirror_mode": {
    "name": "ipython",
    "version": 3
   },
   "file_extension": ".py",
   "mimetype": "text/x-python",
   "name": "python",
   "nbconvert_exporter": "python",
   "pygments_lexer": "ipython3",
   "version": "3.11.5"
  },
  "orig_nbformat": 4
 },
 "nbformat": 4,
 "nbformat_minor": 2
}
